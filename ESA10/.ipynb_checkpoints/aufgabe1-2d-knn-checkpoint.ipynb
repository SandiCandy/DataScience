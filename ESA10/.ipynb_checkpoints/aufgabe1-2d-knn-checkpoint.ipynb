{
 "cells": [
  {
   "cell_type": "markdown",
   "metadata": {},
   "source": [
    "# Data Science - ESA 10 - Aufgabe 1\n",
    "## Implement KNN by hand for just 2 dimensions with normalization.\n",
    "\n",
    "This is easy because:\n",
    "- funct: You normalize your data in another table\n",
    "- funct: You code a simple euclid distance function\n",
    "- funct: You take a point and calculate the distance to all points\n",
    "- funct: You take the list from above and sort it\n",
    "- funct: You aggregate by target variable\n",
    "- funct: you take the max to determine the targe class\n",
    "you are finished!\n",
    "\n",
    "*Note: This is the only chance to implement a machine learning algorithm by hand and hence learn something from the ground up!*"
   ]
  },
  {
   "cell_type": "code",
   "execution_count": 35,
   "metadata": {},
   "outputs": [],
   "source": [
    "%matplotlib inline\n",
    "import numpy as np\n",
    "from numpy import array\n",
    "from sklearn import datasets"
   ]
  },
  {
   "cell_type": "markdown",
   "metadata": {},
   "source": [
    "Normalize data function"
   ]
  },
  {
   "cell_type": "code",
   "execution_count": 217,
   "metadata": {},
   "outputs": [],
   "source": [
    "from sklearn.preprocessing import normalize\n",
    "def normalize_data(data):\n",
    "    norm_data = normalize(data, axis=0, norm='max')\n",
    "    return norm_data\n",
    "#better: normalize point with data together\n",
    "def normalize_point(X, data):\n",
    "    dat = np.append(data, X).reshape(len(data)+1,2)\n",
    "    norm_data = normalize(dat, axis=0, norm='max')\n",
    "    X_sc = norm_data[-1]\n",
    "    return X_sc, norm_data[:-1]"
   ]
  },
  {
   "cell_type": "markdown",
   "metadata": {},
   "source": [
    "Euclid distance function"
   ]
  },
  {
   "cell_type": "code",
   "execution_count": 4,
   "metadata": {},
   "outputs": [],
   "source": [
    "def distance(instance1, instance2):\n",
    "    # just in case, if the instances are lists or tuples:\n",
    "    instance1 = np.array(instance1) \n",
    "    instance2 = np.array(instance2)\n",
    "    \n",
    "    return np.linalg.norm(instance1 - instance2)"
   ]
  },
  {
   "cell_type": "markdown",
   "metadata": {},
   "source": [
    "You take a point and calculate the distance to all points"
   ]
  },
  {
   "cell_type": "code",
   "execution_count": 106,
   "metadata": {},
   "outputs": [],
   "source": [
    "def get_all_distances(my_point, all_other_points):\n",
    "    distances = []\n",
    "    for index in range(len(all_other_points)):\n",
    "        dist = distance(my_point, all_other_points[index])\n",
    "        distances.append(dist)\n",
    "    return distances\n",
    "def ds_distances(X, dataset):\n",
    "    data = dataset[0]\n",
    "    distances = np.empty(len(data))\n",
    "    for index in range(len(data)):\n",
    "        dist = distance(my_point, data[index])\n",
    "        distances[index] =dist\n",
    "    return distances, dataset[1]"
   ]
  },
  {
   "cell_type": "markdown",
   "metadata": {},
   "source": [
    "You take the list from above and sort it"
   ]
  },
  {
   "cell_type": "code",
   "execution_count": 146,
   "metadata": {},
   "outputs": [],
   "source": [
    "def sort_distances(distances):\n",
    "    return distances.sort()\n",
    "def sort_dataset(ds):\n",
    "    x=sorted(ds[0])\n",
    "    y=[x for _,x in sorted(zip(ds[0],ds[1]))]\n",
    "    return x,y"
   ]
  },
  {
   "cell_type": "markdown",
   "metadata": {},
   "source": [
    "You aggregate by target variable and you take the max to determine the targe class you are finished!"
   ]
  },
  {
   "cell_type": "code",
   "execution_count": 181,
   "metadata": {},
   "outputs": [],
   "source": [
    "#Vereinfacht wird hier die Wahrscheinlichkeit als Mittelwert aller k bestimmt. \n",
    "#Sinnvoller wäre es vermutlich in Abhängigkeit vom Abstand diese zu gewichten.\n",
    "def aggregate_groups(dataset, k):\n",
    "    values, counts = np.unique(dataset[1][:k], return_counts=True)\n",
    "    pos=np.argmax(counts)\n",
    "    prob=max(counts)/sum(counts)\n",
    "    return values[pos], prob"
   ]
  },
  {
   "cell_type": "markdown",
   "metadata": {},
   "source": [
    "## Anwendungsbeispiel"
   ]
  },
  {
   "cell_type": "code",
   "execution_count": 222,
   "metadata": {},
   "outputs": [],
   "source": [
    "## helper\n",
    "def create_dataset():\n",
    "    group = array([[1.0,1.1],[0.9,1.5],[1.0,1.0],[0,0],[0,0.1]])\n",
    "    labels = ['A','A','B','B','B']\n",
    "    return group, labels"
   ]
  },
  {
   "cell_type": "code",
   "execution_count": 230,
   "metadata": {},
   "outputs": [],
   "source": [
    "ds = create_dataset()\n",
    "my_point=[10, 3]"
   ]
  },
  {
   "cell_type": "code",
   "execution_count": 228,
   "metadata": {},
   "outputs": [
    {
     "name": "stdout",
     "output_type": "stream",
     "text": [
      "[1. 1.] [[0.1        0.36666667]\n",
      " [0.09       0.5       ]\n",
      " [0.1        0.33333333]\n",
      " [0.         0.        ]\n",
      " [0.         0.03333333]]\n"
     ]
    }
   ],
   "source": [
    "# normalize\n",
    "p_sc, data_sc = normalize_point(my_point, ds[0])\n",
    "print(p_sc, data_sc)"
   ]
  },
  {
   "cell_type": "code",
   "execution_count": 229,
   "metadata": {},
   "outputs": [
    {
     "name": "stdout",
     "output_type": "stream",
     "text": [
      "(array([ 9.19836942,  9.22279784,  9.21954446, 10.44030651, 10.41201229]), ['A', 'A', 'B', 'B', 'B'])\n"
     ]
    }
   ],
   "source": [
    "#calculate distance\n",
    "ds_dist=ds_distances(my_point, ds)\n",
    "print(ds_dist)"
   ]
  },
  {
   "cell_type": "code",
   "execution_count": 231,
   "metadata": {},
   "outputs": [
    {
     "name": "stdout",
     "output_type": "stream",
     "text": [
      "([9.198369420718, 9.219544457292887, 9.222797840135064, 10.412012293500233, 10.44030650891055], ['A', 'B', 'A', 'B', 'B'])\n"
     ]
    }
   ],
   "source": [
    "#sort \n",
    "sortedset=sort_dataset(ds_dist)\n",
    "print(sortedset)"
   ]
  },
  {
   "cell_type": "code",
   "execution_count": 234,
   "metadata": {},
   "outputs": [
    {
     "name": "stdout",
     "output_type": "stream",
     "text": [
      "A 0.6666666666666666\n"
     ]
    }
   ],
   "source": [
    "#ergebnis bestimmen\n",
    "k=3\n",
    "best_match, prob = aggregate_groups(sortedset, k)\n",
    "print(best_match, prob)"
   ]
  },
  {
   "cell_type": "code",
   "execution_count": null,
   "metadata": {},
   "outputs": [],
   "source": []
  }
 ],
 "metadata": {
  "kernelspec": {
   "display_name": "Python 3",
   "language": "python",
   "name": "python3"
  },
  "language_info": {
   "codemirror_mode": {
    "name": "ipython",
    "version": 3
   },
   "file_extension": ".py",
   "mimetype": "text/x-python",
   "name": "python",
   "nbconvert_exporter": "python",
   "pygments_lexer": "ipython3",
   "version": "3.7.7"
  }
 },
 "nbformat": 4,
 "nbformat_minor": 4
}
